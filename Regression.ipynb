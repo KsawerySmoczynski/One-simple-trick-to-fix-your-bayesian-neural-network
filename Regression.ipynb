{
 "cells": [
  {
   "cell_type": "markdown",
   "id": "6439d7b2-7416-4758-85e9-4d6ecb3db9ed",
   "metadata": {},
   "source": []
  },
  {
   "cell_type": "code",
   "execution_count": 12,
   "id": "3334393c-f793-4bdf-bd28-90b254a50823",
   "metadata": {},
   "outputs": [],
   "source": [
    "import torch\n",
    "import pyro\n",
    "import numpy as np\n",
    "from torch.nn import ReLU, LeakyReLU\n",
    "from pyro.infer import SVI, Trace_ELBO, Predictive\n",
    "from tqdm import tqdm\n",
    "\n",
    "# Simple model with one hidden layer\n",
    "from src.models.regression import MLERegression\n",
    "from src.metrics.regression import  RootMeanSquaredError, PCIP, MPIW\n",
    "# Six UCI datasets: concrete, power, energy, wine, yacht, housing\n",
    "from src.data.regression import UCI\n",
    "from src.commons.pyro_training import to_bayesian_model\n",
    "from src.commons.utils import seed_everything"
   ]
  },
  {
   "cell_type": "code",
   "execution_count": 13,
   "id": "d3c617db-3ae2-4cea-8e65-020c877b71a4",
   "metadata": {},
   "outputs": [],
   "source": [
    "input_sizes = {\n",
    "    'concrete': 7,\n",
    "    'power': 3,\n",
    "    'energy': 8,\n",
    "    'wine': 10,\n",
    "    'yacht': 5,\n",
    "    'housing': 12\n",
    "}\n",
    "\n",
    "relu = ReLU()\n",
    "leaky = LeakyReLU(negative_slope = 0.5)"
   ]
  },
  {
   "cell_type": "code",
   "execution_count": 14,
   "id": "8baa61c0-33b5-4a1d-80d5-ae4f10fee41c",
   "metadata": {},
   "outputs": [],
   "source": [
    "# Reference example: http://pyro.ai/examples/bayesian_regression.html\n",
    "\n",
    "def training(svi, train_loader, epoch, device):\n",
    "    loss = 0\n",
    "    for idx, (X, y) in tqdm(\n",
    "        enumerate(train_loader), total=len(train_loader), desc=f\"Training epoch {epoch}\", miniters=10\n",
    "    ):\n",
    "        X = X.to(device)\n",
    "        y = y.to(device)\n",
    "        step_loss = svi.step(X, y)\n",
    "        loss += step_loss\n",
    "        batch_index = (epoch + 1) * len(train_loader) + idx\n",
    "    return loss\n",
    "\n",
    "def evaluation(predictive, dataloader, metrics, device):\n",
    "    for idx, (X, y) in tqdm(enumerate(dataloader), desc=f\"Evaluation\", miniters=10):\n",
    "        if not np.isfinite(np.array(X)).all():\n",
    "            print(\"WARNING: INF IN DATA\")\n",
    "            X[X == float(\"-INF\")] = 0\n",
    "            X[X == float(\"INF\")] = 0\n",
    "            \n",
    "        y = y.to(device)\n",
    "        out = predictive(X.to(device))[\"obs\"].T\n",
    "        for metric in metrics.values():\n",
    "            metric.update(out, y)\n"
   ]
  },
  {
   "cell_type": "code",
   "execution_count": 15,
   "id": "8d9756ed-1283-4f73-abb8-b0a0c0d41aa2",
   "metadata": {},
   "outputs": [],
   "source": [
    "def train_loop(\n",
    "    model,\n",
    "    guide,\n",
    "    train_loader,\n",
    "    valid_loader,\n",
    "    svi,\n",
    "    epochs,\n",
    "    num_samples,\n",
    "    metrics,\n",
    "    device,\n",
    "):\n",
    "    \n",
    "    for e in range(epochs):\n",
    "        loss = training(svi, train_loader, e, device)\n",
    "        print(f\"Loss: {loss}\")\n",
    "        \n",
    "        predictive = Predictive(model, guide=guide, num_samples=num_samples, return_sites=(\"obs\",))\n",
    "        evaluation(predictive, valid_loader, metrics, device)\n",
    "        \n",
    "        for metric in metrics:\n",
    "            print(f\"{metric}: {metrics[metric].compute().cpu()}\")\n",
    "            metrics[metric].reset()\n",
    "            \n",
    "    return model, guide"
   ]
  },
  {
   "cell_type": "code",
   "execution_count": 16,
   "id": "73c7295c-01c6-482f-8642-0fe797d3ef96",
   "metadata": {},
   "outputs": [],
   "source": [
    "def bayesian_training(\n",
    "    seed,\n",
    "    max_epochs,\n",
    "    num_samples,\n",
    "    batch_size,\n",
    "    task,\n",
    "    device,\n",
    "    optimizer,\n",
    "    criterion,\n",
    "    sigma_bound,\n",
    "    param_mean,\n",
    "    param_std,\n",
    "    hidden_size,\n",
    "    activation\n",
    "):\n",
    "    seed_everything(seed)\n",
    "    pyro.clear_param_store()\n",
    "\n",
    "    net = MLERegression(activation=activation, in_size=input_sizes[task], hidden_size=hidden_size, out_size=1)\n",
    "# the model is converted using code in src.models.bnn, in particular BNNRegression class defining bayesian model\n",
    "    model = to_bayesian_model(net, param_mean, param_std, device=device, sigma_bound=sigma_bound)\n",
    "    svi = SVI(model.model, model.guide, optimizer, loss=criterion)\n",
    "    \n",
    "    dataloader_args = {\n",
    "      \"num_workers\": 4,\n",
    "      \"pin_memory\": True,\n",
    "      \"persistent_workers\": True\n",
    "    }\n",
    "    \n",
    "    uci = UCI(task, train_batch_size=batch_size, test_batch_size=batch_size, train_ratio=0.8, validation_ratio=0.2, dataloader_args=dataloader_args)\n",
    "    train_loader = uci.train_dataloader()\n",
    "    valid_loader = uci.validation_dataloader()\n",
    "    \n",
    "    metrics = {\n",
    "    \"RMSE\": RootMeanSquaredError(input_type=\"samples\"),\n",
    "    \"PCIP\": PCIP(input_type=\"none\", percentile=80),\n",
    "    \"MPIW\": MPIW(input_type=\"none\", percentile=80)\n",
    "    }\n",
    "\n",
    "    for metric in metrics.values():\n",
    "        metric.set_device(device)\n",
    "        \n",
    "    return train_loop(model.model, model.guide, train_loader, valid_loader, svi, max_epochs, num_samples, metrics, device)"
   ]
  },
  {
   "cell_type": "code",
   "execution_count": 17,
   "id": "3139f8ea-0408-4f59-9c41-45969d7e58e5",
   "metadata": {},
   "outputs": [],
   "source": [
    "param_dict = {\n",
    "    \"seed\": 42,\n",
    "    \"max_epochs\": 50,\n",
    "    \"num_samples\": 50,\n",
    "    \"batch_size\": 32,\n",
    "    \"task\": 'housing',\n",
    "    \"device\": torch.device(\"cuda\"),\n",
    "\n",
    "    \"optimizer\": pyro.optim.Adam({\"lr\": 0.001 ,\"betas\": [0.9, 0.999]}),\n",
    "    \"criterion\": Trace_ELBO(),\n",
    "\n",
    "    # The models output is Normal(mean, std) where std has prior Uniform(0, sigma_bound)\n",
    "    \"sigma_bound\": 5.0,\n",
    "\n",
    "    # mean and std of bayesian model priors\n",
    "    \"param_mean\": 0.0,\n",
    "    \"param_std\": 1.0,\n",
    "\n",
    "    \"hidden_size\": 40,\n",
    "    \"activation\": relu\n",
    "}"
   ]
  },
  {
   "cell_type": "markdown",
   "id": "569173fb-26e8-4acc-9587-3d444dba61ef",
   "metadata": {},
   "source": [
    "The data is normalized so RMSE of naive model is ~1. \n",
    "\n",
    "PCIP metric is adjusted for percentile so for example for 80% confidence interval value 5 means that 85% of datapoint fall into the interval and value -3 means that 77% of the datapoints fall into the interval. In other words, the closer the PCIP metric is to 0 the better.\n",
    "\n",
    "Here we can see that the model starts with relatively reasonable PCIP but as the model trains it goes up to 18 indicating that 98% of datapoints fall into 80% confidence interval (despite the fact that RMSE goes down so the model converges). \n",
    "\n",
    "By changing param_std, sigma_bound, learning_rate, batch_size or the shape of the net one can affect the course of training so that the initial PCIP can be negative/positive and increase/decrease throughout training. But I didn't manage to set the parameters in such a way that it converges to 0."
   ]
  },
  {
   "cell_type": "code",
   "execution_count": 18,
   "id": "abc14685-24fc-4102-b97c-1d8f42a15e24",
   "metadata": {},
   "outputs": [
    {
     "name": "stdout",
     "output_type": "stream",
     "text": [
      "Train data shape\n",
      "torch.Size([404, 12])\n",
      "torch.Size([404])\n",
      "Test data shape\n",
      "torch.Size([101, 12])\n",
      "torch.Size([101])\n",
      "NAIVE RMSE: 0.9948453971905475\n"
     ]
    },
    {
     "name": "stderr",
     "output_type": "stream",
     "text": [
      "Training epoch 0: 100%|██████████████████████████████████████████████████████████████████████████████████████████████████████████████████████| 11/11 [00:00<00:00, 62.86it/s]"
     ]
    },
    {
     "name": "stdout",
     "output_type": "stream",
     "text": [
      "Loss: 12201.28772854805\n"
     ]
    },
    {
     "name": "stderr",
     "output_type": "stream",
     "text": [
      "\n",
      "Evaluation: 3it [00:00,  5.01it/s]\n"
     ]
    },
    {
     "name": "stdout",
     "output_type": "stream",
     "text": [
      "RMSE: 1.9745211601257324\n",
      "PCIP: 3.75\n",
      "MPIW: 5.2330827713012695\n"
     ]
    },
    {
     "name": "stderr",
     "output_type": "stream",
     "text": [
      "Training epoch 1: 100%|██████████████████████████████████████████████████████████████████████████████████████████████████████████████████████| 11/11 [00:00<00:00, 58.56it/s]\n"
     ]
    },
    {
     "name": "stdout",
     "output_type": "stream",
     "text": [
      "Loss: 12145.839479923248\n"
     ]
    },
    {
     "name": "stderr",
     "output_type": "stream",
     "text": [
      "Evaluation: 3it [00:00,  5.66it/s]\n"
     ]
    },
    {
     "name": "stdout",
     "output_type": "stream",
     "text": [
      "RMSE: 1.7377240657806396\n",
      "PCIP: 4.375\n",
      "MPIW: 5.233338356018066\n"
     ]
    },
    {
     "name": "stderr",
     "output_type": "stream",
     "text": [
      "Training epoch 2: 100%|██████████████████████████████████████████████████████████████████████████████████████████████████████████████████████| 11/11 [00:00<00:00, 71.35it/s]\n"
     ]
    },
    {
     "name": "stdout",
     "output_type": "stream",
     "text": [
      "Loss: 12104.237593233585\n"
     ]
    },
    {
     "name": "stderr",
     "output_type": "stream",
     "text": [
      "Evaluation: 3it [00:00,  5.66it/s]\n"
     ]
    },
    {
     "name": "stdout",
     "output_type": "stream",
     "text": [
      "RMSE: 1.4273418188095093\n",
      "PCIP: 7.083335876464844\n",
      "MPIW: 5.288703918457031\n"
     ]
    },
    {
     "name": "stderr",
     "output_type": "stream",
     "text": [
      "Training epoch 3: 100%|██████████████████████████████████████████████████████████████████████████████████████████████████████████████████████| 11/11 [00:00<00:00, 68.19it/s]\n"
     ]
    },
    {
     "name": "stdout",
     "output_type": "stream",
     "text": [
      "Loss: 11963.116403579712\n"
     ]
    },
    {
     "name": "stderr",
     "output_type": "stream",
     "text": [
      "Evaluation: 3it [00:00,  5.65it/s]\n"
     ]
    },
    {
     "name": "stdout",
     "output_type": "stream",
     "text": [
      "RMSE: 1.2151650190353394\n",
      "PCIP: 8.4375\n",
      "MPIW: 5.23115873336792\n"
     ]
    },
    {
     "name": "stderr",
     "output_type": "stream",
     "text": [
      "Training epoch 4: 100%|██████████████████████████████████████████████████████████████████████████████████████████████████████████████████████| 11/11 [00:00<00:00, 67.91it/s]\n"
     ]
    },
    {
     "name": "stdout",
     "output_type": "stream",
     "text": [
      "Loss: 11873.29842031002\n"
     ]
    },
    {
     "name": "stderr",
     "output_type": "stream",
     "text": [
      "Evaluation: 3it [00:00,  5.65it/s]\n"
     ]
    },
    {
     "name": "stdout",
     "output_type": "stream",
     "text": [
      "RMSE: 1.0899417400360107\n",
      "PCIP: 10.0\n",
      "MPIW: 5.2201104164123535\n"
     ]
    },
    {
     "name": "stderr",
     "output_type": "stream",
     "text": [
      "Training epoch 5: 100%|██████████████████████████████████████████████████████████████████████████████████████████████████████████████████████| 11/11 [00:00<00:00, 69.20it/s]\n"
     ]
    },
    {
     "name": "stdout",
     "output_type": "stream",
     "text": [
      "Loss: 11814.152236282825\n"
     ]
    },
    {
     "name": "stderr",
     "output_type": "stream",
     "text": [
      "Evaluation: 3it [00:00,  5.68it/s]\n"
     ]
    },
    {
     "name": "stdout",
     "output_type": "stream",
     "text": [
      "RMSE: 1.0481154918670654\n",
      "PCIP: 11.250007629394531\n",
      "MPIW: 5.2227606773376465\n"
     ]
    },
    {
     "name": "stderr",
     "output_type": "stream",
     "text": [
      "Training epoch 6: 100%|██████████████████████████████████████████████████████████████████████████████████████████████████████████████████████| 11/11 [00:00<00:00, 67.71it/s]\n"
     ]
    },
    {
     "name": "stdout",
     "output_type": "stream",
     "text": [
      "Loss: 11771.5860324502\n"
     ]
    },
    {
     "name": "stderr",
     "output_type": "stream",
     "text": [
      "Evaluation: 3it [00:00,  5.68it/s]\n"
     ]
    },
    {
     "name": "stdout",
     "output_type": "stream",
     "text": [
      "RMSE: 0.9633806347846985\n",
      "PCIP: 12.321426391601562\n",
      "MPIW: 5.238219738006592\n"
     ]
    },
    {
     "name": "stderr",
     "output_type": "stream",
     "text": [
      "Training epoch 7: 100%|██████████████████████████████████████████████████████████████████████████████████████████████████████████████████████| 11/11 [00:00<00:00, 67.61it/s]\n"
     ]
    },
    {
     "name": "stdout",
     "output_type": "stream",
     "text": [
      "Loss: 11577.964246034622\n"
     ]
    },
    {
     "name": "stderr",
     "output_type": "stream",
     "text": [
      "Evaluation: 3it [00:00,  5.69it/s]\n"
     ]
    },
    {
     "name": "stdout",
     "output_type": "stream",
     "text": [
      "RMSE: 0.8626309037208557\n",
      "PCIP: 13.125\n",
      "MPIW: 5.249088287353516\n"
     ]
    },
    {
     "name": "stderr",
     "output_type": "stream",
     "text": [
      "Training epoch 8: 100%|██████████████████████████████████████████████████████████████████████████████████████████████████████████████████████| 11/11 [00:00<00:00, 67.44it/s]\n"
     ]
    },
    {
     "name": "stdout",
     "output_type": "stream",
     "text": [
      "Loss: 11561.511214971542\n"
     ]
    },
    {
     "name": "stderr",
     "output_type": "stream",
     "text": [
      "Evaluation: 3it [00:00,  5.71it/s]\n"
     ]
    },
    {
     "name": "stdout",
     "output_type": "stream",
     "text": [
      "RMSE: 0.8412342071533203\n",
      "PCIP: 13.75\n",
      "MPIW: 5.2498860359191895\n"
     ]
    },
    {
     "name": "stderr",
     "output_type": "stream",
     "text": [
      "Training epoch 9: 100%|██████████████████████████████████████████████████████████████████████████████████████████████████████████████████████| 11/11 [00:00<00:00, 70.27it/s]\n"
     ]
    },
    {
     "name": "stdout",
     "output_type": "stream",
     "text": [
      "Loss: 11459.387121140957\n"
     ]
    },
    {
     "name": "stderr",
     "output_type": "stream",
     "text": [
      "Evaluation: 3it [00:00,  5.61it/s]\n"
     ]
    },
    {
     "name": "stdout",
     "output_type": "stream",
     "text": [
      "RMSE: 0.8362199068069458\n",
      "PCIP: 14.375\n",
      "MPIW: 5.247282981872559\n"
     ]
    },
    {
     "name": "stderr",
     "output_type": "stream",
     "text": [
      "Training epoch 10: 100%|█████████████████████████████████████████████████████████████████████████████████████████████████████████████████████| 11/11 [00:00<00:00, 63.66it/s]\n"
     ]
    },
    {
     "name": "stdout",
     "output_type": "stream",
     "text": [
      "Loss: 11362.684881031513\n"
     ]
    },
    {
     "name": "stderr",
     "output_type": "stream",
     "text": [
      "Evaluation: 3it [00:00,  3.78it/s]\n"
     ]
    },
    {
     "name": "stdout",
     "output_type": "stream",
     "text": [
      "RMSE: 0.7536134123802185\n",
      "PCIP: 14.772727966308594\n",
      "MPIW: 5.260594844818115\n"
     ]
    },
    {
     "name": "stderr",
     "output_type": "stream",
     "text": [
      "Training epoch 11: 100%|█████████████████████████████████████████████████████████████████████████████████████████████████████████████████████| 11/11 [00:00<00:00, 66.81it/s]\n"
     ]
    },
    {
     "name": "stdout",
     "output_type": "stream",
     "text": [
      "Loss: 11306.568384349346\n"
     ]
    },
    {
     "name": "stderr",
     "output_type": "stream",
     "text": [
      "Evaluation: 3it [00:00,  5.47it/s]\n"
     ]
    },
    {
     "name": "stdout",
     "output_type": "stream",
     "text": [
      "RMSE: 0.7783670425415039\n",
      "PCIP: 15.000007629394531\n",
      "MPIW: 5.2579169273376465\n"
     ]
    },
    {
     "name": "stderr",
     "output_type": "stream",
     "text": [
      "Training epoch 12: 100%|█████████████████████████████████████████████████████████████████████████████████████████████████████████████████████| 11/11 [00:00<00:00, 67.78it/s]\n"
     ]
    },
    {
     "name": "stdout",
     "output_type": "stream",
     "text": [
      "Loss: 11234.239776551723\n"
     ]
    },
    {
     "name": "stderr",
     "output_type": "stream",
     "text": [
      "Evaluation: 3it [00:00,  5.64it/s]\n"
     ]
    },
    {
     "name": "stdout",
     "output_type": "stream",
     "text": [
      "RMSE: 0.7197064161300659\n",
      "PCIP: 15.384613037109375\n",
      "MPIW: 5.2489142417907715\n"
     ]
    },
    {
     "name": "stderr",
     "output_type": "stream",
     "text": [
      "Training epoch 13: 100%|█████████████████████████████████████████████████████████████████████████████████████████████████████████████████████| 11/11 [00:00<00:00, 69.52it/s]\n"
     ]
    },
    {
     "name": "stdout",
     "output_type": "stream",
     "text": [
      "Loss: 11221.339615046978\n"
     ]
    },
    {
     "name": "stderr",
     "output_type": "stream",
     "text": [
      "Evaluation: 3it [00:00,  5.61it/s]\n"
     ]
    },
    {
     "name": "stdout",
     "output_type": "stream",
     "text": [
      "RMSE: 0.7889441251754761\n",
      "PCIP: 15.625\n",
      "MPIW: 5.242625713348389\n"
     ]
    },
    {
     "name": "stderr",
     "output_type": "stream",
     "text": [
      "Training epoch 14: 100%|█████████████████████████████████████████████████████████████████████████████████████████████████████████████████████| 11/11 [00:00<00:00, 70.26it/s]\n"
     ]
    },
    {
     "name": "stdout",
     "output_type": "stream",
     "text": [
      "Loss: 11085.188278853893\n"
     ]
    },
    {
     "name": "stderr",
     "output_type": "stream",
     "text": [
      "Evaluation: 3it [00:00,  5.65it/s]\n"
     ]
    },
    {
     "name": "stdout",
     "output_type": "stream",
     "text": [
      "RMSE: 0.6933871507644653\n",
      "PCIP: 15.833335876464844\n",
      "MPIW: 5.23216438293457\n"
     ]
    },
    {
     "name": "stderr",
     "output_type": "stream",
     "text": [
      "Training epoch 15: 100%|█████████████████████████████████████████████████████████████████████████████████████████████████████████████████████| 11/11 [00:00<00:00, 69.04it/s]\n"
     ]
    },
    {
     "name": "stdout",
     "output_type": "stream",
     "text": [
      "Loss: 11047.406704485416\n"
     ]
    },
    {
     "name": "stderr",
     "output_type": "stream",
     "text": [
      "Evaluation: 3it [00:00,  5.70it/s]\n"
     ]
    },
    {
     "name": "stdout",
     "output_type": "stream",
     "text": [
      "RMSE: 0.7362537980079651\n",
      "PCIP: 16.015625\n",
      "MPIW: 5.222671031951904\n"
     ]
    },
    {
     "name": "stderr",
     "output_type": "stream",
     "text": [
      "Training epoch 16: 100%|█████████████████████████████████████████████████████████████████████████████████████████████████████████████████████| 11/11 [00:00<00:00, 67.17it/s]\n"
     ]
    },
    {
     "name": "stdout",
     "output_type": "stream",
     "text": [
      "Loss: 10996.488861858845\n"
     ]
    },
    {
     "name": "stderr",
     "output_type": "stream",
     "text": [
      "Evaluation: 3it [00:00,  5.68it/s]\n"
     ]
    },
    {
     "name": "stdout",
     "output_type": "stream",
     "text": [
      "RMSE: 0.7447720766067505\n",
      "PCIP: 16.176475524902344\n",
      "MPIW: 5.215726375579834\n"
     ]
    },
    {
     "name": "stderr",
     "output_type": "stream",
     "text": [
      "Training epoch 17: 100%|█████████████████████████████████████████████████████████████████████████████████████████████████████████████████████| 11/11 [00:00<00:00, 69.18it/s]\n"
     ]
    },
    {
     "name": "stdout",
     "output_type": "stream",
     "text": [
      "Loss: 10850.73546475172\n"
     ]
    },
    {
     "name": "stderr",
     "output_type": "stream",
     "text": [
      "Evaluation: 3it [00:00,  5.62it/s]\n"
     ]
    },
    {
     "name": "stdout",
     "output_type": "stream",
     "text": [
      "RMSE: 0.7007922530174255\n",
      "PCIP: 16.31945037841797\n",
      "MPIW: 5.214407920837402\n"
     ]
    },
    {
     "name": "stderr",
     "output_type": "stream",
     "text": [
      "Training epoch 18: 100%|█████████████████████████████████████████████████████████████████████████████████████████████████████████████████████| 11/11 [00:00<00:00, 53.93it/s]\n"
     ]
    },
    {
     "name": "stdout",
     "output_type": "stream",
     "text": [
      "Loss: 10973.645402729511\n"
     ]
    },
    {
     "name": "stderr",
     "output_type": "stream",
     "text": [
      "Evaluation: 3it [00:00,  5.18it/s]\n"
     ]
    },
    {
     "name": "stdout",
     "output_type": "stream",
     "text": [
      "RMSE: 0.6913362741470337\n",
      "PCIP: 16.513160705566406\n",
      "MPIW: 5.199379920959473\n"
     ]
    },
    {
     "name": "stderr",
     "output_type": "stream",
     "text": [
      "Training epoch 19: 100%|█████████████████████████████████████████████████████████████████████████████████████████████████████████████████████| 11/11 [00:00<00:00, 68.30it/s]\n"
     ]
    },
    {
     "name": "stdout",
     "output_type": "stream",
     "text": [
      "Loss: 10731.622162103653\n"
     ]
    },
    {
     "name": "stderr",
     "output_type": "stream",
     "text": [
      "Evaluation: 3it [00:00,  5.61it/s]\n"
     ]
    },
    {
     "name": "stdout",
     "output_type": "stream",
     "text": [
      "RMSE: 0.679031252861023\n",
      "PCIP: 16.625\n",
      "MPIW: 5.188937664031982\n"
     ]
    },
    {
     "name": "stderr",
     "output_type": "stream",
     "text": [
      "Training epoch 20: 100%|█████████████████████████████████████████████████████████████████████████████████████████████████████████████████████| 11/11 [00:00<00:00, 72.73it/s]\n"
     ]
    },
    {
     "name": "stdout",
     "output_type": "stream",
     "text": [
      "Loss: 10711.437962770462\n"
     ]
    },
    {
     "name": "stderr",
     "output_type": "stream",
     "text": [
      "Evaluation: 3it [00:00,  5.62it/s]\n"
     ]
    },
    {
     "name": "stdout",
     "output_type": "stream",
     "text": [
      "RMSE: 0.6188263297080994\n",
      "PCIP: 16.785720825195312\n",
      "MPIW: 5.176839351654053\n"
     ]
    },
    {
     "name": "stderr",
     "output_type": "stream",
     "text": [
      "Training epoch 21: 100%|█████████████████████████████████████████████████████████████████████████████████████████████████████████████████████| 11/11 [00:00<00:00, 69.88it/s]\n"
     ]
    },
    {
     "name": "stdout",
     "output_type": "stream",
     "text": [
      "Loss: 10639.486311733723\n"
     ]
    },
    {
     "name": "stderr",
     "output_type": "stream",
     "text": [
      "Evaluation: 3it [00:00,  5.63it/s]\n"
     ]
    },
    {
     "name": "stdout",
     "output_type": "stream",
     "text": [
      "RMSE: 0.5731141567230225\n",
      "PCIP: 16.93181610107422\n",
      "MPIW: 5.16486930847168\n"
     ]
    },
    {
     "name": "stderr",
     "output_type": "stream",
     "text": [
      "Training epoch 22: 100%|█████████████████████████████████████████████████████████████████████████████████████████████████████████████████████| 11/11 [00:00<00:00, 65.43it/s]\n"
     ]
    },
    {
     "name": "stdout",
     "output_type": "stream",
     "text": [
      "Loss: 10654.403968691826\n"
     ]
    },
    {
     "name": "stderr",
     "output_type": "stream",
     "text": [
      "Evaluation: 3it [00:00,  5.46it/s]\n"
     ]
    },
    {
     "name": "stdout",
     "output_type": "stream",
     "text": [
      "RMSE: 0.6594889760017395\n",
      "PCIP: 17.065216064453125\n",
      "MPIW: 5.1579270362854\n"
     ]
    },
    {
     "name": "stderr",
     "output_type": "stream",
     "text": [
      "Training epoch 23: 100%|█████████████████████████████████████████████████████████████████████████████████████████████████████████████████████| 11/11 [00:00<00:00, 69.20it/s]\n"
     ]
    },
    {
     "name": "stdout",
     "output_type": "stream",
     "text": [
      "Loss: 10420.583797693253\n"
     ]
    },
    {
     "name": "stderr",
     "output_type": "stream",
     "text": [
      "Evaluation: 3it [00:00,  5.58it/s]\n"
     ]
    },
    {
     "name": "stdout",
     "output_type": "stream",
     "text": [
      "RMSE: 0.7056401371955872\n",
      "PCIP: 17.18750762939453\n",
      "MPIW: 5.148446559906006\n"
     ]
    },
    {
     "name": "stderr",
     "output_type": "stream",
     "text": [
      "Training epoch 24: 100%|█████████████████████████████████████████████████████████████████████████████████████████████████████████████████████| 11/11 [00:00<00:00, 68.89it/s]\n"
     ]
    },
    {
     "name": "stdout",
     "output_type": "stream",
     "text": [
      "Loss: 10342.406872451305\n"
     ]
    },
    {
     "name": "stderr",
     "output_type": "stream",
     "text": [
      "Evaluation: 3it [00:00,  5.66it/s]\n"
     ]
    },
    {
     "name": "stdout",
     "output_type": "stream",
     "text": [
      "RMSE: 0.6614208221435547\n",
      "PCIP: 17.25000762939453\n",
      "MPIW: 5.137234687805176\n"
     ]
    },
    {
     "name": "stderr",
     "output_type": "stream",
     "text": [
      "Training epoch 25: 100%|█████████████████████████████████████████████████████████████████████████████████████████████████████████████████████| 11/11 [00:00<00:00, 69.33it/s]\n"
     ]
    },
    {
     "name": "stdout",
     "output_type": "stream",
     "text": [
      "Loss: 10331.607665836811\n"
     ]
    },
    {
     "name": "stderr",
     "output_type": "stream",
     "text": [
      "Evaluation: 3it [00:00,  5.63it/s]\n"
     ]
    },
    {
     "name": "stdout",
     "output_type": "stream",
     "text": [
      "RMSE: 0.7024210095405579\n",
      "PCIP: 17.35576629638672\n",
      "MPIW: 5.131134510040283\n"
     ]
    },
    {
     "name": "stderr",
     "output_type": "stream",
     "text": [
      "Training epoch 26: 100%|█████████████████████████████████████████████████████████████████████████████████████████████████████████████████████| 11/11 [00:00<00:00, 70.13it/s]\n"
     ]
    },
    {
     "name": "stdout",
     "output_type": "stream",
     "text": [
      "Loss: 10330.885304629803\n"
     ]
    },
    {
     "name": "stderr",
     "output_type": "stream",
     "text": [
      "Evaluation: 3it [00:00,  5.69it/s]\n"
     ]
    },
    {
     "name": "stdout",
     "output_type": "stream",
     "text": [
      "RMSE: 0.6679789423942566\n",
      "PCIP: 17.453704833984375\n",
      "MPIW: 5.121960163116455\n"
     ]
    },
    {
     "name": "stderr",
     "output_type": "stream",
     "text": [
      "Training epoch 27: 100%|█████████████████████████████████████████████████████████████████████████████████████████████████████████████████████| 11/11 [00:00<00:00, 68.51it/s]\n"
     ]
    },
    {
     "name": "stdout",
     "output_type": "stream",
     "text": [
      "Loss: 10188.569781064987\n"
     ]
    },
    {
     "name": "stderr",
     "output_type": "stream",
     "text": [
      "Evaluation: 3it [00:00,  5.55it/s]\n"
     ]
    },
    {
     "name": "stdout",
     "output_type": "stream",
     "text": [
      "RMSE: 0.6344813704490662\n",
      "PCIP: 17.5\n",
      "MPIW: 5.113589286804199\n"
     ]
    },
    {
     "name": "stderr",
     "output_type": "stream",
     "text": [
      "Training epoch 28: 100%|█████████████████████████████████████████████████████████████████████████████████████████████████████████████████████| 11/11 [00:00<00:00, 69.77it/s]\n"
     ]
    },
    {
     "name": "stdout",
     "output_type": "stream",
     "text": [
      "Loss: 10171.442003369331\n"
     ]
    },
    {
     "name": "stderr",
     "output_type": "stream",
     "text": [
      "Evaluation: 3it [00:00,  5.59it/s]\n"
     ]
    },
    {
     "name": "stdout",
     "output_type": "stream",
     "text": [
      "RMSE: 0.6050661206245422\n",
      "PCIP: 17.586204528808594\n",
      "MPIW: 5.101521968841553\n"
     ]
    },
    {
     "name": "stderr",
     "output_type": "stream",
     "text": [
      "Training epoch 29: 100%|█████████████████████████████████████████████████████████████████████████████████████████████████████████████████████| 11/11 [00:00<00:00, 69.17it/s]\n"
     ]
    },
    {
     "name": "stdout",
     "output_type": "stream",
     "text": [
      "Loss: 10097.777797698975\n"
     ]
    },
    {
     "name": "stderr",
     "output_type": "stream",
     "text": [
      "Evaluation: 3it [00:00,  5.56it/s]\n"
     ]
    },
    {
     "name": "stdout",
     "output_type": "stream",
     "text": [
      "RMSE: 0.638148307800293\n",
      "PCIP: 17.625\n",
      "MPIW: 5.0913496017456055\n"
     ]
    },
    {
     "name": "stderr",
     "output_type": "stream",
     "text": [
      "Training epoch 30: 100%|█████████████████████████████████████████████████████████████████████████████████████████████████████████████████████| 11/11 [00:00<00:00, 67.09it/s]\n"
     ]
    },
    {
     "name": "stdout",
     "output_type": "stream",
     "text": [
      "Loss: 9971.630537033081\n"
     ]
    },
    {
     "name": "stderr",
     "output_type": "stream",
     "text": [
      "Evaluation: 3it [00:00,  5.50it/s]\n"
     ]
    },
    {
     "name": "stdout",
     "output_type": "stream",
     "text": [
      "RMSE: 0.5877673029899597\n",
      "PCIP: 17.701614379882812\n",
      "MPIW: 5.081319808959961\n"
     ]
    },
    {
     "name": "stderr",
     "output_type": "stream",
     "text": [
      "Training epoch 31: 100%|█████████████████████████████████████████████████████████████████████████████████████████████████████████████████████| 11/11 [00:00<00:00, 66.78it/s]\n"
     ]
    },
    {
     "name": "stdout",
     "output_type": "stream",
     "text": [
      "Loss: 9918.074712753296\n"
     ]
    },
    {
     "name": "stderr",
     "output_type": "stream",
     "text": [
      "Evaluation: 3it [00:00,  5.53it/s]\n"
     ]
    },
    {
     "name": "stdout",
     "output_type": "stream",
     "text": [
      "RMSE: 0.6977314949035645\n",
      "PCIP: 17.7734375\n",
      "MPIW: 5.071162700653076\n"
     ]
    },
    {
     "name": "stderr",
     "output_type": "stream",
     "text": [
      "Training epoch 32: 100%|█████████████████████████████████████████████████████████████████████████████████████████████████████████████████████| 11/11 [00:00<00:00, 69.19it/s]\n"
     ]
    },
    {
     "name": "stdout",
     "output_type": "stream",
     "text": [
      "Loss: 9984.40328913927\n"
     ]
    },
    {
     "name": "stderr",
     "output_type": "stream",
     "text": [
      "Evaluation: 3it [00:00,  5.51it/s]\n"
     ]
    },
    {
     "name": "stdout",
     "output_type": "stream",
     "text": [
      "RMSE: 0.630133867263794\n",
      "PCIP: 17.840904235839844\n",
      "MPIW: 5.060287952423096\n"
     ]
    },
    {
     "name": "stderr",
     "output_type": "stream",
     "text": [
      "Training epoch 33: 100%|█████████████████████████████████████████████████████████████████████████████████████████████████████████████████████| 11/11 [00:00<00:00, 67.73it/s]\n"
     ]
    },
    {
     "name": "stdout",
     "output_type": "stream",
     "text": [
      "Loss: 9894.96941524744\n"
     ]
    },
    {
     "name": "stderr",
     "output_type": "stream",
     "text": [
      "Evaluation: 3it [00:00,  5.66it/s]\n"
     ]
    },
    {
     "name": "stdout",
     "output_type": "stream",
     "text": [
      "RMSE: 0.6461842060089111\n",
      "PCIP: 17.867645263671875\n",
      "MPIW: 5.048527240753174\n"
     ]
    },
    {
     "name": "stderr",
     "output_type": "stream",
     "text": [
      "Training epoch 34: 100%|█████████████████████████████████████████████████████████████████████████████████████████████████████████████████████| 11/11 [00:00<00:00, 67.46it/s]\n"
     ]
    },
    {
     "name": "stdout",
     "output_type": "stream",
     "text": [
      "Loss: 9813.811757743359\n"
     ]
    },
    {
     "name": "stderr",
     "output_type": "stream",
     "text": [
      "Evaluation: 3it [00:00,  5.66it/s]\n"
     ]
    },
    {
     "name": "stdout",
     "output_type": "stream",
     "text": [
      "RMSE: 0.6525239944458008\n",
      "PCIP: 17.928573608398438\n",
      "MPIW: 5.037673473358154\n"
     ]
    },
    {
     "name": "stderr",
     "output_type": "stream",
     "text": [
      "Training epoch 35: 100%|█████████████████████████████████████████████████████████████████████████████████████████████████████████████████████| 11/11 [00:00<00:00, 70.41it/s]\n"
     ]
    },
    {
     "name": "stdout",
     "output_type": "stream",
     "text": [
      "Loss: 9702.005874156952\n"
     ]
    },
    {
     "name": "stderr",
     "output_type": "stream",
     "text": [
      "Evaluation: 3it [00:00,  5.65it/s]\n"
     ]
    },
    {
     "name": "stdout",
     "output_type": "stream",
     "text": [
      "RMSE: 0.631919801235199\n",
      "PCIP: 17.951393127441406\n",
      "MPIW: 5.026285171508789\n"
     ]
    },
    {
     "name": "stderr",
     "output_type": "stream",
     "text": [
      "Training epoch 36: 100%|█████████████████████████████████████████████████████████████████████████████████████████████████████████████████████| 11/11 [00:00<00:00, 67.82it/s]\n"
     ]
    },
    {
     "name": "stdout",
     "output_type": "stream",
     "text": [
      "Loss: 9658.27674806118\n"
     ]
    },
    {
     "name": "stderr",
     "output_type": "stream",
     "text": [
      "Evaluation: 3it [00:00,  5.61it/s]\n"
     ]
    },
    {
     "name": "stdout",
     "output_type": "stream",
     "text": [
      "RMSE: 0.6065350770950317\n",
      "PCIP: 18.006759643554688\n",
      "MPIW: 5.01479434967041\n"
     ]
    },
    {
     "name": "stderr",
     "output_type": "stream",
     "text": [
      "Training epoch 37: 100%|█████████████████████████████████████████████████████████████████████████████████████████████████████████████████████| 11/11 [00:00<00:00, 67.08it/s]\n"
     ]
    },
    {
     "name": "stdout",
     "output_type": "stream",
     "text": [
      "Loss: 9701.17451941967\n"
     ]
    },
    {
     "name": "stderr",
     "output_type": "stream",
     "text": [
      "Evaluation: 3it [00:00,  5.57it/s]\n"
     ]
    },
    {
     "name": "stdout",
     "output_type": "stream",
     "text": [
      "RMSE: 0.581710159778595\n",
      "PCIP: 18.05921173095703\n",
      "MPIW: 5.002559185028076\n"
     ]
    },
    {
     "name": "stderr",
     "output_type": "stream",
     "text": [
      "Training epoch 38: 100%|█████████████████████████████████████████████████████████████████████████████████████████████████████████████████████| 11/11 [00:00<00:00, 66.00it/s]\n"
     ]
    },
    {
     "name": "stdout",
     "output_type": "stream",
     "text": [
      "Loss: 9612.954359948635\n"
     ]
    },
    {
     "name": "stderr",
     "output_type": "stream",
     "text": [
      "Evaluation: 3it [00:00,  5.57it/s]\n"
     ]
    },
    {
     "name": "stdout",
     "output_type": "stream",
     "text": [
      "RMSE: 0.5528729557991028\n",
      "PCIP: 18.108978271484375\n",
      "MPIW: 4.991311073303223\n"
     ]
    },
    {
     "name": "stderr",
     "output_type": "stream",
     "text": [
      "Training epoch 39: 100%|█████████████████████████████████████████████████████████████████████████████████████████████████████████████████████| 11/11 [00:00<00:00, 69.12it/s]\n"
     ]
    },
    {
     "name": "stdout",
     "output_type": "stream",
     "text": [
      "Loss: 9581.457455515862\n"
     ]
    },
    {
     "name": "stderr",
     "output_type": "stream",
     "text": [
      "Evaluation: 3it [00:00,  5.59it/s]\n"
     ]
    },
    {
     "name": "stdout",
     "output_type": "stream",
     "text": [
      "RMSE: 0.622696578502655\n",
      "PCIP: 18.15625\n",
      "MPIW: 4.982608318328857\n"
     ]
    },
    {
     "name": "stderr",
     "output_type": "stream",
     "text": [
      "Training epoch 40: 100%|█████████████████████████████████████████████████████████████████████████████████████████████████████████████████████| 11/11 [00:00<00:00, 67.38it/s]\n"
     ]
    },
    {
     "name": "stdout",
     "output_type": "stream",
     "text": [
      "Loss: 9523.074344694614\n"
     ]
    },
    {
     "name": "stderr",
     "output_type": "stream",
     "text": [
      "Evaluation: 3it [00:00,  5.68it/s]\n"
     ]
    },
    {
     "name": "stdout",
     "output_type": "stream",
     "text": [
      "RMSE: 0.6202865242958069\n",
      "PCIP: 18.201217651367188\n",
      "MPIW: 4.9733710289001465\n"
     ]
    },
    {
     "name": "stderr",
     "output_type": "stream",
     "text": [
      "Training epoch 41: 100%|█████████████████████████████████████████████████████████████████████████████████████████████████████████████████████| 11/11 [00:00<00:00, 67.40it/s]\n"
     ]
    },
    {
     "name": "stdout",
     "output_type": "stream",
     "text": [
      "Loss: 9304.977566123009\n"
     ]
    },
    {
     "name": "stderr",
     "output_type": "stream",
     "text": [
      "Evaluation: 3it [00:00,  5.69it/s]\n"
     ]
    },
    {
     "name": "stdout",
     "output_type": "stream",
     "text": [
      "RMSE: 0.5972426533699036\n",
      "PCIP: 18.21428680419922\n",
      "MPIW: 4.960517883300781\n"
     ]
    },
    {
     "name": "stderr",
     "output_type": "stream",
     "text": [
      "Training epoch 42: 100%|█████████████████████████████████████████████████████████████████████████████████████████████████████████████████████| 11/11 [00:00<00:00, 69.02it/s]\n"
     ]
    },
    {
     "name": "stdout",
     "output_type": "stream",
     "text": [
      "Loss: 9190.135061979294\n"
     ]
    },
    {
     "name": "stderr",
     "output_type": "stream",
     "text": [
      "Evaluation: 3it [00:00,  5.60it/s]\n"
     ]
    },
    {
     "name": "stdout",
     "output_type": "stream",
     "text": [
      "RMSE: 0.5807090997695923\n",
      "PCIP: 18.255813598632812\n",
      "MPIW: 4.949870586395264\n"
     ]
    },
    {
     "name": "stderr",
     "output_type": "stream",
     "text": [
      "Training epoch 43: 100%|█████████████████████████████████████████████████████████████████████████████████████████████████████████████████████| 11/11 [00:00<00:00, 65.78it/s]\n"
     ]
    },
    {
     "name": "stdout",
     "output_type": "stream",
     "text": [
      "Loss: 9199.981912195683\n"
     ]
    },
    {
     "name": "stderr",
     "output_type": "stream",
     "text": [
      "Evaluation: 3it [00:00,  5.57it/s]\n"
     ]
    },
    {
     "name": "stdout",
     "output_type": "stream",
     "text": [
      "RMSE: 0.5996513962745667\n",
      "PCIP: 18.267044067382812\n",
      "MPIW: 4.940003871917725\n"
     ]
    },
    {
     "name": "stderr",
     "output_type": "stream",
     "text": [
      "Training epoch 44: 100%|█████████████████████████████████████████████████████████████████████████████████████████████████████████████████████| 11/11 [00:00<00:00, 68.87it/s]\n"
     ]
    },
    {
     "name": "stdout",
     "output_type": "stream",
     "text": [
      "Loss: 9138.406808316708\n"
     ]
    },
    {
     "name": "stderr",
     "output_type": "stream",
     "text": [
      "Evaluation: 3it [00:00,  5.67it/s]\n"
     ]
    },
    {
     "name": "stdout",
     "output_type": "stream",
     "text": [
      "RMSE: 0.5920960307121277\n",
      "PCIP: 18.305557250976562\n",
      "MPIW: 4.931490421295166\n"
     ]
    },
    {
     "name": "stderr",
     "output_type": "stream",
     "text": [
      "Training epoch 45: 100%|█████████████████████████████████████████████████████████████████████████████████████████████████████████████████████| 11/11 [00:00<00:00, 67.04it/s]\n"
     ]
    },
    {
     "name": "stdout",
     "output_type": "stream",
     "text": [
      "Loss: 9105.338749587536\n"
     ]
    },
    {
     "name": "stderr",
     "output_type": "stream",
     "text": [
      "Evaluation: 3it [00:00,  5.62it/s]\n"
     ]
    },
    {
     "name": "stdout",
     "output_type": "stream",
     "text": [
      "RMSE: 0.6800040602684021\n",
      "PCIP: 18.315216064453125\n",
      "MPIW: 4.919672012329102\n"
     ]
    },
    {
     "name": "stderr",
     "output_type": "stream",
     "text": [
      "Training epoch 46: 100%|█████████████████████████████████████████████████████████████████████████████████████████████████████████████████████| 11/11 [00:00<00:00, 53.90it/s]\n"
     ]
    },
    {
     "name": "stdout",
     "output_type": "stream",
     "text": [
      "Loss: 8998.472422599792\n"
     ]
    },
    {
     "name": "stderr",
     "output_type": "stream",
     "text": [
      "Evaluation: 3it [00:00,  5.54it/s]\n"
     ]
    },
    {
     "name": "stdout",
     "output_type": "stream",
     "text": [
      "RMSE: 0.6140491366386414\n",
      "PCIP: 18.351058959960938\n",
      "MPIW: 4.909765243530273\n"
     ]
    },
    {
     "name": "stderr",
     "output_type": "stream",
     "text": [
      "Training epoch 47: 100%|█████████████████████████████████████████████████████████████████████████████████████████████████████████████████████| 11/11 [00:00<00:00, 70.63it/s]\n"
     ]
    },
    {
     "name": "stdout",
     "output_type": "stream",
     "text": [
      "Loss: 9011.587351799011\n"
     ]
    },
    {
     "name": "stderr",
     "output_type": "stream",
     "text": [
      "Evaluation: 3it [00:00,  5.49it/s]\n"
     ]
    },
    {
     "name": "stdout",
     "output_type": "stream",
     "text": [
      "RMSE: 0.5873497128486633\n",
      "PCIP: 18.35938262939453\n",
      "MPIW: 4.898877143859863\n"
     ]
    },
    {
     "name": "stderr",
     "output_type": "stream",
     "text": [
      "Training epoch 48: 100%|█████████████████████████████████████████████████████████████████████████████████████████████████████████████████████| 11/11 [00:00<00:00, 67.81it/s]\n"
     ]
    },
    {
     "name": "stdout",
     "output_type": "stream",
     "text": [
      "Loss: 8986.11275601387\n"
     ]
    },
    {
     "name": "stderr",
     "output_type": "stream",
     "text": [
      "Evaluation: 3it [00:00,  5.65it/s]\n"
     ]
    },
    {
     "name": "stdout",
     "output_type": "stream",
     "text": [
      "RMSE: 0.6697556972503662\n",
      "PCIP: 18.392852783203125\n",
      "MPIW: 4.8877105712890625\n"
     ]
    },
    {
     "name": "stderr",
     "output_type": "stream",
     "text": [
      "Training epoch 49: 100%|█████████████████████████████████████████████████████████████████████████████████████████████████████████████████████| 11/11 [00:00<00:00, 67.62it/s]\n"
     ]
    },
    {
     "name": "stdout",
     "output_type": "stream",
     "text": [
      "Loss: 8822.7569039464\n"
     ]
    },
    {
     "name": "stderr",
     "output_type": "stream",
     "text": [
      "Evaluation: 3it [00:00,  5.61it/s]\n"
     ]
    },
    {
     "name": "stdout",
     "output_type": "stream",
     "text": [
      "RMSE: 0.6290941834449768\n",
      "PCIP: 18.425003051757812\n",
      "MPIW: 4.875285625457764\n"
     ]
    },
    {
     "data": {
      "text/plain": [
       "(BNNRegression(\n",
       "   (model): PyroMLERegression(\n",
       "     (activation): PyroReLU()\n",
       "     (layer1): PyroLinear(in_features=12, out_features=40, bias=True)\n",
       "     (layer3): PyroLinear(in_features=40, out_features=1, bias=True)\n",
       "   )\n",
       " ),\n",
       " AutoDiagonalNormal())"
      ]
     },
     "execution_count": 18,
     "metadata": {},
     "output_type": "execute_result"
    }
   ],
   "source": [
    "bayesian_training(**param_dict)"
   ]
  },
  {
   "cell_type": "code",
   "execution_count": null,
   "id": "18a6fddb-dde4-4c2a-b12f-b4988223c931",
   "metadata": {},
   "outputs": [],
   "source": []
  },
  {
   "cell_type": "code",
   "execution_count": null,
   "id": "54ca8800-7a08-4d9a-93c4-0816a2ee1b5b",
   "metadata": {},
   "outputs": [],
   "source": []
  },
  {
   "cell_type": "code",
   "execution_count": null,
   "id": "138ffa09-abc1-4b40-bf5f-72eac29372d0",
   "metadata": {},
   "outputs": [],
   "source": []
  }
 ],
 "metadata": {
  "kernelspec": {
   "display_name": "Python 3 (ipykernel)",
   "language": "python",
   "name": "python3"
  },
  "language_info": {
   "codemirror_mode": {
    "name": "ipython",
    "version": 3
   },
   "file_extension": ".py",
   "mimetype": "text/x-python",
   "name": "python",
   "nbconvert_exporter": "python",
   "pygments_lexer": "ipython3",
   "version": "3.8.10"
  }
 },
 "nbformat": 4,
 "nbformat_minor": 5
}
