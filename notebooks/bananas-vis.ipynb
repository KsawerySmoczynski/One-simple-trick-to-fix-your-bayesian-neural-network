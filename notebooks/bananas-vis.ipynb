{
 "cells": [
  {
   "cell_type": "code",
   "execution_count": 1,
   "metadata": {},
   "outputs": [],
   "source": [
    "from __future__ import print_function\n",
    "import argparse\n",
    "import torch\n",
    "import torch.nn as nn\n",
    "import torch.nn.functional as F\n",
    "import torch.optim as optim\n",
    "from torchvision import datasets, transforms\n",
    "from torch.optim.lr_scheduler import StepLR\n",
    "from torch.nn.utils import vector_to_parameters, parameters_to_vector\n",
    "import matplotlib.pyplot as plt\n",
    "import numpy as np\n",
    "import random\n",
    "\n",
    "from src.models import LeNet\n",
    "from models import *\n",
    "\n",
    "SEED = 42\n",
    "\n",
    "torch.manual_seed(42)\n",
    "random.seed(42)\n",
    "np.random.seed(42)\n",
    "\n",
    "\n",
    "def train(model, device, train_loader, optimizer, epoch):\n",
    "    log_interval = 100\n",
    "    model.train()\n",
    "    for batch_idx, (data, target) in enumerate(train_loader):\n",
    "        data, target = data.to(device), target.to(device)\n",
    "        optimizer.zero_grad()\n",
    "        output = model(data)\n",
    "        loss = F.nll_loss(output, target)\n",
    "        loss.backward()\n",
    "        optimizer.step()\n",
    "        if batch_idx % log_interval == 0:\n",
    "            print('Train Epoch: {} [{}/{} ({:.0f}%)]\\tLoss: {:.6f}'.format(\n",
    "                epoch, batch_idx * len(data), len(train_loader.dataset),\n",
    "                100. * batch_idx / len(train_loader), loss.item()))\n",
    "\n",
    "\n",
    "def test(model, device, test_loader):\n",
    "    model.eval()\n",
    "    test_loss = 0\n",
    "    correct = 0\n",
    "    with torch.no_grad():\n",
    "        for data, target in test_loader:\n",
    "            data, target = data.to(device), target.to(device)\n",
    "            output = model(data)\n",
    "            test_loss += F.nll_loss(output, target, reduction='sum').item()  # sum up batch loss\n",
    "            pred = output.argmax(dim=1, keepdim=True)  # get the index of the max log-probability\n",
    "            correct += pred.eq(target.view_as(pred)).sum().item()\n",
    "\n",
    "    test_loss /= len(test_loader.dataset)\n",
    "\n",
    "    print('\\nTest set: Average loss: {:.4f}, Accuracy: {}/{} ({:.0f}%)\\n'.format(\n",
    "        test_loss, correct, len(test_loader.dataset),\n",
    "        100. * correct / len(test_loader.dataset)))"
   ]
  },
  {
   "cell_type": "code",
   "execution_count": 2,
   "metadata": {},
   "outputs": [],
   "source": [
    "def modify_parameter(model, i, value):\n",
    "    vec = parameters_to_vector(model.parameters())\n",
    "    vec[i] = value\n",
    "    vector_to_parameters(vec, model.parameters())\n",
    "    \n",
    "def calculate_ll(full_train_loader, model):\n",
    "    test_loss = 0\n",
    "    test_good = 0\n",
    "    with torch.no_grad():\n",
    "        for data, target in full_train_loader:\n",
    "            data, target = data.to(device), target.to(device)\n",
    "            output = model(data)\n",
    "            test_loss += -F.nll_loss(output, target, reduction='sum').item()\n",
    "            pred = output.argmax(dim=1, keepdim=True)\n",
    "            test_good += pred.eq(target.view_as(pred)).sum().item()\n",
    "    return test_loss, test_good\n",
    "\n",
    "class N(nn.Module):\n",
    "    def __init__(self):\n",
    "        super().__init__()\n",
    "        # self.log_A = torch.nn.Parameter(torch.tensor(0.), requires_grad=True)\n",
    "        self.mu = torch.nn.Parameter(torch.tensor(0.), requires_grad=True)\n",
    "        self.log_s = torch.nn.Parameter(torch.tensor(0.), requires_grad=True)\n",
    "        self.pi = torch.tensor(np.pi, requires_grad=False)\n",
    "    def forward(self, x):\n",
    "        # A = torch.exp(self.log_A)\n",
    "        s = torch.exp(self.log_s)\n",
    "        x = 1/(s*(2*self.pi)**(1/2)) * torch.exp(-((x - self.mu)/s)**2)\n",
    "        return x\n",
    "    \n",
    "def fit_N(x, p):\n",
    "    dist = N()\n",
    "    optim = torch.optim.SGD(dist.parameters(), lr=0.4)\n",
    "    for _ in range(1000):\n",
    "        optim.zero_grad()\n",
    "        xt = torch.from_numpy(x)\n",
    "        out = dist(xt)\n",
    "        loss = torch.mean((out - torch.from_numpy(p))**2)\n",
    "        loss.backward()\n",
    "        optim.step()\n",
    "    \n",
    "    return out.cpu().detach().numpy()"
   ]
  },
  {
   "cell_type": "code",
   "execution_count": 3,
   "metadata": {},
   "outputs": [
    {
     "name": "stdout",
     "output_type": "stream",
     "text": [
      "Net has: 65586 parameters\n"
     ]
    }
   ],
   "source": [
    "batch_size = 128\n",
    "test_batch_size = 128\n",
    "lr = 0.001\n",
    "gamma = 0.7\n",
    "epochs = 20\n",
    "device = 'cuda:0'\n",
    "train_limit = int(1e6)\n",
    "\n",
    "# model = Net().to(device)\n",
    "# model = LeakyNet().to(device)\n",
    "# model = FCNNet().to(device)\n",
    "# model = AbsNet().to(device)\n",
    "model = LeNet(1,10, 1).to(device)\n",
    "\n",
    "\n",
    "train_kwargs = {'batch_size': batch_size}\n",
    "test_kwargs = {'batch_size': test_batch_size}\n",
    "if 'cuda' in device:\n",
    "    cuda_kwargs = {'num_workers': 16,\n",
    "                   'pin_memory': True,\n",
    "                   'persistent_workers': True,\n",
    "                   }\n",
    "    train_kwargs.update(cuda_kwargs)\n",
    "    test_kwargs.update(cuda_kwargs)\n",
    "\n",
    "transform=transforms.Compose([\n",
    "    transforms.ToTensor(),\n",
    "    transforms.Normalize((0.1307,), (0.3081,))\n",
    "    ])\n",
    "\n",
    "train_dataset = datasets.MNIST('../datasets', train=True, download=True,\n",
    "                   transform=transform)\n",
    "test_dataset = datasets.MNIST('../datasets', train=False,\n",
    "                   transform=transform)\n",
    "\n",
    "# train_dataset = datasets.FashionMNIST('../data', train=True, download=True,\n",
    "#                    transform=transform)\n",
    "# test_dataset = datasets.FashionMNIST('../data', train=False,\n",
    "#                    transform=transform)\n",
    "\n",
    "train_dataset.data = train_dataset.data[:train_limit]\n",
    "train_dataset.targets = train_dataset.targets[:train_limit]\n",
    "\n",
    "\n",
    "train_loader = torch.utils.data.DataLoader(train_dataset,**train_kwargs)\n",
    "test_loader = torch.utils.data.DataLoader(test_dataset, **test_kwargs)"
   ]
  },
  {
   "cell_type": "code",
   "execution_count": 5,
   "metadata": {
    "collapsed": true,
    "jupyter": {
     "outputs_hidden": true
    },
    "tags": []
   },
   "outputs": [
    {
     "name": "stdout",
     "output_type": "stream",
     "text": [
      "Train Epoch: 1 [0/60000 (0%)]\tLoss: -0.027439\n",
      "Train Epoch: 1 [12800/60000 (21%)]\tLoss: -8.602041\n",
      "Train Epoch: 1 [25600/60000 (43%)]\tLoss: -17.691010\n",
      "Train Epoch: 1 [38400/60000 (64%)]\tLoss: -26.414566\n",
      "Train Epoch: 1 [51200/60000 (85%)]\tLoss: -35.063358\n",
      "\n",
      "Test set: Average loss: -40.7942, Accuracy: 980/10000 (10%)\n",
      "\n",
      "Train Epoch: 2 [0/60000 (0%)]\tLoss: -40.898727\n",
      "Train Epoch: 2 [12800/60000 (21%)]\tLoss: -46.789249\n"
     ]
    },
    {
     "name": "stderr",
     "output_type": "stream",
     "text": [
      "Exception in thread Thread-8:\n",
      "Traceback (most recent call last):\n",
      "  File \"/home/ksawery/.pyenv/versions/3.8.11/lib/python3.8/threading.py\", line 932, in _bootstrap_inner\n",
      "    self.run()\n",
      "  File \"/home/ksawery/.pyenv/versions/3.8.11/lib/python3.8/threading.py\", line 870, in run\n",
      "    self._target(*self._args, **self._kwargs)\n",
      "  File \"/home/ksawery/.cache/pypoetry/virtualenvs/bayesian-AIC1jy8r-py3.8/lib/python3.8/site-packages/torch/utils/data/_utils/pin_memory.py\", line 28, in _pin_memory_loop\n",
      "    r = in_queue.get(timeout=MP_STATUS_CHECK_INTERVAL)\n",
      "  File \"/home/ksawery/.pyenv/versions/3.8.11/lib/python3.8/multiprocessing/queues.py\", line 116, in get\n",
      "    return _ForkingPickler.loads(res)\n",
      "  File \"/home/ksawery/.cache/pypoetry/virtualenvs/bayesian-AIC1jy8r-py3.8/lib/python3.8/site-packages/torch/multiprocessing/reductions.py\", line 289, in rebuild_storage_fd\n",
      "    fd = df.detach()\n",
      "  File \"/home/ksawery/.pyenv/versions/3.8.11/lib/python3.8/multiprocessing/resource_sharer.py\", line 57, in detach\n",
      "    with _resource_sharer.get_connection(self._id) as conn:\n",
      "  File \"/home/ksawery/.pyenv/versions/3.8.11/lib/python3.8/multiprocessing/resource_sharer.py\", line 87, in get_connection\n",
      "    c = Client(address, authkey=process.current_process().authkey)\n",
      "  File \"/home/ksawery/.pyenv/versions/3.8.11/lib/python3.8/multiprocessing/connection.py\", line 502, in Client\n",
      "    c = SocketClient(address)\n",
      "  File \"/home/ksawery/.pyenv/versions/3.8.11/lib/python3.8/multiprocessing/connection.py\", line 630, in SocketClient\n",
      "    s.connect(address)\n",
      "FileNotFoundError: [Errno 2] No such file or directory\n"
     ]
    },
    {
     "ename": "KeyboardInterrupt",
     "evalue": "",
     "output_type": "error",
     "traceback": [
      "\u001b[0;31m---------------------------------------------------------------------------\u001b[0m",
      "\u001b[0;31mKeyboardInterrupt\u001b[0m                         Traceback (most recent call last)",
      "\u001b[0;32m/tmp/ipykernel_24747/2532142748.py\u001b[0m in \u001b[0;36m<module>\u001b[0;34m\u001b[0m\n\u001b[1;32m      5\u001b[0m \u001b[0;34m\u001b[0m\u001b[0m\n\u001b[1;32m      6\u001b[0m \u001b[0;32mfor\u001b[0m \u001b[0mepoch\u001b[0m \u001b[0;32min\u001b[0m \u001b[0mrange\u001b[0m\u001b[0;34m(\u001b[0m\u001b[0;36m1\u001b[0m\u001b[0;34m,\u001b[0m \u001b[0mepochs\u001b[0m \u001b[0;34m+\u001b[0m \u001b[0;36m1\u001b[0m\u001b[0;34m)\u001b[0m\u001b[0;34m:\u001b[0m\u001b[0;34m\u001b[0m\u001b[0;34m\u001b[0m\u001b[0m\n\u001b[0;32m----> 7\u001b[0;31m     \u001b[0mtrain\u001b[0m\u001b[0;34m(\u001b[0m\u001b[0mmodel\u001b[0m\u001b[0;34m,\u001b[0m \u001b[0mdevice\u001b[0m\u001b[0;34m,\u001b[0m \u001b[0mtrain_loader\u001b[0m\u001b[0;34m,\u001b[0m \u001b[0moptimizer\u001b[0m\u001b[0;34m,\u001b[0m \u001b[0mepoch\u001b[0m\u001b[0;34m)\u001b[0m\u001b[0;34m\u001b[0m\u001b[0;34m\u001b[0m\u001b[0m\n\u001b[0m\u001b[1;32m      8\u001b[0m     \u001b[0mtest\u001b[0m\u001b[0;34m(\u001b[0m\u001b[0mmodel\u001b[0m\u001b[0;34m,\u001b[0m \u001b[0mdevice\u001b[0m\u001b[0;34m,\u001b[0m \u001b[0mtest_loader\u001b[0m\u001b[0;34m)\u001b[0m\u001b[0;34m\u001b[0m\u001b[0;34m\u001b[0m\u001b[0m\n\u001b[1;32m      9\u001b[0m     \u001b[0mscheduler\u001b[0m\u001b[0;34m.\u001b[0m\u001b[0mstep\u001b[0m\u001b[0;34m(\u001b[0m\u001b[0;34m)\u001b[0m\u001b[0;34m\u001b[0m\u001b[0;34m\u001b[0m\u001b[0m\n",
      "\u001b[0;32m/tmp/ipykernel_24747/112995331.py\u001b[0m in \u001b[0;36mtrain\u001b[0;34m(model, device, train_loader, optimizer, epoch)\u001b[0m\n\u001b[1;32m     30\u001b[0m         \u001b[0moutput\u001b[0m \u001b[0;34m=\u001b[0m \u001b[0mmodel\u001b[0m\u001b[0;34m(\u001b[0m\u001b[0mdata\u001b[0m\u001b[0;34m)\u001b[0m\u001b[0;34m\u001b[0m\u001b[0;34m\u001b[0m\u001b[0m\n\u001b[1;32m     31\u001b[0m         \u001b[0mloss\u001b[0m \u001b[0;34m=\u001b[0m \u001b[0mF\u001b[0m\u001b[0;34m.\u001b[0m\u001b[0mnll_loss\u001b[0m\u001b[0;34m(\u001b[0m\u001b[0moutput\u001b[0m\u001b[0;34m,\u001b[0m \u001b[0mtarget\u001b[0m\u001b[0;34m)\u001b[0m\u001b[0;34m\u001b[0m\u001b[0;34m\u001b[0m\u001b[0m\n\u001b[0;32m---> 32\u001b[0;31m         \u001b[0mloss\u001b[0m\u001b[0;34m.\u001b[0m\u001b[0mbackward\u001b[0m\u001b[0;34m(\u001b[0m\u001b[0;34m)\u001b[0m\u001b[0;34m\u001b[0m\u001b[0;34m\u001b[0m\u001b[0m\n\u001b[0m\u001b[1;32m     33\u001b[0m         \u001b[0moptimizer\u001b[0m\u001b[0;34m.\u001b[0m\u001b[0mstep\u001b[0m\u001b[0;34m(\u001b[0m\u001b[0;34m)\u001b[0m\u001b[0;34m\u001b[0m\u001b[0;34m\u001b[0m\u001b[0m\n\u001b[1;32m     34\u001b[0m         \u001b[0;32mif\u001b[0m \u001b[0mbatch_idx\u001b[0m \u001b[0;34m%\u001b[0m \u001b[0mlog_interval\u001b[0m \u001b[0;34m==\u001b[0m \u001b[0;36m0\u001b[0m\u001b[0;34m:\u001b[0m\u001b[0;34m\u001b[0m\u001b[0;34m\u001b[0m\u001b[0m\n",
      "\u001b[0;32m~/.cache/pypoetry/virtualenvs/bayesian-AIC1jy8r-py3.8/lib/python3.8/site-packages/torch/_tensor.py\u001b[0m in \u001b[0;36mbackward\u001b[0;34m(self, gradient, retain_graph, create_graph, inputs)\u001b[0m\n\u001b[1;32m    305\u001b[0m                 \u001b[0mcreate_graph\u001b[0m\u001b[0;34m=\u001b[0m\u001b[0mcreate_graph\u001b[0m\u001b[0;34m,\u001b[0m\u001b[0;34m\u001b[0m\u001b[0;34m\u001b[0m\u001b[0m\n\u001b[1;32m    306\u001b[0m                 inputs=inputs)\n\u001b[0;32m--> 307\u001b[0;31m         \u001b[0mtorch\u001b[0m\u001b[0;34m.\u001b[0m\u001b[0mautograd\u001b[0m\u001b[0;34m.\u001b[0m\u001b[0mbackward\u001b[0m\u001b[0;34m(\u001b[0m\u001b[0mself\u001b[0m\u001b[0;34m,\u001b[0m \u001b[0mgradient\u001b[0m\u001b[0;34m,\u001b[0m \u001b[0mretain_graph\u001b[0m\u001b[0;34m,\u001b[0m \u001b[0mcreate_graph\u001b[0m\u001b[0;34m,\u001b[0m \u001b[0minputs\u001b[0m\u001b[0;34m=\u001b[0m\u001b[0minputs\u001b[0m\u001b[0;34m)\u001b[0m\u001b[0;34m\u001b[0m\u001b[0;34m\u001b[0m\u001b[0m\n\u001b[0m\u001b[1;32m    308\u001b[0m \u001b[0;34m\u001b[0m\u001b[0m\n\u001b[1;32m    309\u001b[0m     \u001b[0;32mdef\u001b[0m \u001b[0mregister_hook\u001b[0m\u001b[0;34m(\u001b[0m\u001b[0mself\u001b[0m\u001b[0;34m,\u001b[0m \u001b[0mhook\u001b[0m\u001b[0;34m)\u001b[0m\u001b[0;34m:\u001b[0m\u001b[0;34m\u001b[0m\u001b[0;34m\u001b[0m\u001b[0m\n",
      "\u001b[0;32m~/.cache/pypoetry/virtualenvs/bayesian-AIC1jy8r-py3.8/lib/python3.8/site-packages/torch/autograd/__init__.py\u001b[0m in \u001b[0;36mbackward\u001b[0;34m(tensors, grad_tensors, retain_graph, create_graph, grad_variables, inputs)\u001b[0m\n\u001b[1;32m    152\u001b[0m         \u001b[0mretain_graph\u001b[0m \u001b[0;34m=\u001b[0m \u001b[0mcreate_graph\u001b[0m\u001b[0;34m\u001b[0m\u001b[0;34m\u001b[0m\u001b[0m\n\u001b[1;32m    153\u001b[0m \u001b[0;34m\u001b[0m\u001b[0m\n\u001b[0;32m--> 154\u001b[0;31m     Variable._execution_engine.run_backward(\n\u001b[0m\u001b[1;32m    155\u001b[0m         \u001b[0mtensors\u001b[0m\u001b[0;34m,\u001b[0m \u001b[0mgrad_tensors_\u001b[0m\u001b[0;34m,\u001b[0m \u001b[0mretain_graph\u001b[0m\u001b[0;34m,\u001b[0m \u001b[0mcreate_graph\u001b[0m\u001b[0;34m,\u001b[0m \u001b[0minputs\u001b[0m\u001b[0;34m,\u001b[0m\u001b[0;34m\u001b[0m\u001b[0;34m\u001b[0m\u001b[0m\n\u001b[1;32m    156\u001b[0m         allow_unreachable=True, accumulate_grad=True)  # allow_unreachable flag\n",
      "\u001b[0;31mKeyboardInterrupt\u001b[0m: "
     ]
    }
   ],
   "source": [
    "optimizer = optim.Adam(model.parameters(), lr=lr)\n",
    "# optimizer = optim.Adadelta(model.parameters(), lr=lr)\n",
    "\n",
    "scheduler = StepLR(optimizer, step_size=1, gamma=gamma)\n",
    "\n",
    "for epoch in range(1, epochs + 1):\n",
    "    train(model, device, train_loader, optimizer, epoch)\n",
    "    test(model, device, test_loader)\n",
    "    scheduler.step()\n",
    "\n",
    "torch.save(model.state_dict(), \"mnist_lenet.pt\")"
   ]
  },
  {
   "cell_type": "code",
   "execution_count": 4,
   "metadata": {},
   "outputs": [
    {
     "data": {
      "text/plain": [
       "65586"
      ]
     },
     "execution_count": 4,
     "metadata": {},
     "output_type": "execute_result"
    },
    {
     "data": {
      "image/png": "[encoded data removed]",
      "text/plain": [
       "<Figure size 432x288 with 1 Axes>"
      ]
     },
     "metadata": {
      "needs_background": "light"
     },
     "output_type": "display_data"
    }
   ],
   "source": [
    "model.load_state_dict(torch.load(\"mnist_cnn.pt\"))\n",
    "model = model.to(device)\n",
    "model.eval()\n",
    "full_train_loader = torch.utils.data.DataLoader(train_dataset, batch_size=2**10, num_workers=16)\n",
    "original_parameters = parameters_to_vector(model.parameters()).detach().clone()\n",
    "plt.hist(original_parameters.cpu().numpy(), bins=100)\n",
    "len(original_parameters)"
   ]
  },
  {
   "cell_type": "code",
   "execution_count": 5,
   "metadata": {},
   "outputs": [],
   "source": [
    "def plot_1d(df, val, i, train_limit):\n",
    "#     print(df)\n",
    "    good = df[:,2].astype('float') / train_limit\n",
    "    logp = df[:,1]\n",
    "    p = np.exp(logp - np.max(logp))\n",
    "    plt.figure(figsize=(15,5))\n",
    "    ax = plt.subplot(1,1,1)\n",
    "    ax.plot(df[:,0], p);\n",
    "    ax.axvline(x=val, c='r')\n",
    "    p_N = fit_N(df[:,0], p)\n",
    "    ax.plot(df[:,0], p_N, alpha=0.7);\n",
    "    ax.plot(df[:,0], good, alpha=0.7);\n",
    "    plt.ylim(0.0, 1.05)\n",
    "    plt.title(f\"i:{i}, val: {val}\")\n",
    "    plt.show()"
   ]
  },
  {
   "cell_type": "code",
   "execution_count": 6,
   "metadata": {},
   "outputs": [],
   "source": [
    "i = 123\n",
    "length = len(original_parameters)\n",
    "inds = np.random.choice(np.arange(length), 10)\n",
    "\n",
    "# inds = [0,1, length - 1, length - 2]\n",
    "# inds = [length - 1, length - 2]"
   ]
  },
  {
   "cell_type": "code",
   "execution_count": null,
   "metadata": {},
   "outputs": [
    {
     "name": "stdout",
     "output_type": "stream",
     "text": [
      "15795 tensor(-0.0316)\n",
      ".................................................."
     ]
    },
    {
     "data": {
      "image/png": "[encoded data removed]",
      "text/plain": [
       "<Figure size 1080x360 with 1 Axes>"
      ]
     },
     "metadata": {
      "needs_background": "light"
     },
     "output_type": "display_data"
    },
    {
     "name": "stdout",
     "output_type": "stream",
     "text": [
      "860 tensor(-0.3152)\n",
      "..............................."
     ]
    }
   ],
   "source": [
    "window = 20\n",
    "rate = 50\n",
    "\n",
    "for idx, i in enumerate(inds, 1):\n",
    "    val = original_parameters[i].cpu()\n",
    "    print(i, val)\n",
    "    vector_to_parameters(original_parameters, model.parameters())\n",
    "    df = []\n",
    "    for value in torch.linspace(val-window, val+window, rate, device=device):\n",
    "        print('.', end='')\n",
    "        modify_parameter(model, i, value)\n",
    "        ll, good = calculate_ll(full_train_loader, model)\n",
    "        df.append((value, ll, good))\n",
    "    df = torch.tensor(df).cpu().numpy()\n",
    "    plot_1d(df, val, i, train_limit)"
   ]
  },
  {
   "cell_type": "code",
   "execution_count": 10,
   "metadata": {},
   "outputs": [],
   "source": [
    "def plot_2d(df, val1, i1, val2, i2, train_limit):\n",
    "    good = df[:,3].astype('float') / train_limit\n",
    "    logp = df[:,2]\n",
    "    p = np.exp(logp - np.max(logp))\n",
    "    length = np.sqrt(len(p))\n",
    "    assert int(length) == length\n",
    "    length = int(length)\n",
    "#     X, Y = np.meshgrid(df[:,0], df[:,1])\n",
    "#     plt.contourf(X, Y, p.reshape(length, length))\n",
    "    plt.contourf(p.reshape(length, length), levels=np.linspace(0,1,20))\n",
    "    plt.colorbar()\n",
    "    plt.show()"
   ]
  },
  {
   "cell_type": "code",
   "execution_count": 11,
   "metadata": {},
   "outputs": [],
   "source": [
    "n_plot = 50\n",
    "inds = np.random.choice(np.arange(length), 2 * n_plot, replace=False)\n",
    "inds = zip(inds[0:n_plot], inds[n_plot:])"
   ]
  },
  {
   "cell_type": "code",
   "execution_count": null,
   "metadata": {},
   "outputs": [
    {
     "name": "stdout",
     "output_type": "stream",
     "text": [
      "26479 tensor(0.1011, device='cuda:0')\n",
      "44230 tensor(-0.0641, device='cuda:0')\n",
      "...................."
     ]
    },
    {
     "data": {
      "image/png": "[encoded data removed]",
      "text/plain": [
       "<Figure size 432x288 with 2 Axes>"
      ]
     },
     "metadata": {
      "needs_background": "light"
     },
     "output_type": "display_data"
    },
    {
     "name": "stdout",
     "output_type": "stream",
     "text": [
      "26168 tensor(0.0811, device='cuda:0')\n",
      "30487 tensor(0.0345, device='cuda:0')\n",
      "...................."
     ]
    },
    {
     "data": {
      "image/png": "[encoded data removed]",
      "text/plain": [
       "<Figure size 432x288 with 2 Axes>"
      ]
     },
     "metadata": {
      "needs_background": "light"
     },
     "output_type": "display_data"
    },
    {
     "name": "stdout",
     "output_type": "stream",
     "text": [
      "3647 tensor(-0.0325, device='cuda:0')\n",
      "9019 tensor(-0.0865, device='cuda:0')\n",
      "....."
     ]
    }
   ],
   "source": [
    "window = 10\n",
    "rate = 20\n",
    "model.to(device)\n",
    "for idx, (i1, i2) in enumerate(inds, 1):\n",
    "    val1 = original_parameters[i1]\n",
    "    val2 = original_parameters[i2]\n",
    "    print(i1, val1)\n",
    "    print(i2, val2)\n",
    "    vector_to_parameters(original_parameters, model.parameters())\n",
    "    df = []\n",
    "    for value1 in torch.linspace(val1-window, val1+window, rate, device=device):\n",
    "        modify_parameter(model, i1, value1)\n",
    "        for value2 in torch.linspace(val2-window, val2+window, rate, device=device):\n",
    "            modify_parameter(model, i2, value2)\n",
    "            ll, good = calculate_ll(full_train_loader, model)\n",
    "            df.append((value1, value2, ll, good))\n",
    "        print('.', end='')\n",
    "    df = torch.tensor(df).cpu().numpy()\n",
    "    plot_2d(df, val1.cpu(), i1, val2.cpu(), i2, train_limit)"
   ]
  },
  {
   "cell_type": "code",
   "execution_count": null,
   "metadata": {},
   "outputs": [],
   "source": []
  }
 ],
 "metadata": {
  "kernelspec": {
   "display_name": "Python 3 (ipykernel)",
   "language": "python",
   "name": "python3"
  },
  "language_info": {
   "codemirror_mode": {
    "name": "ipython",
    "version": 3
   },
   "file_extension": ".py",
   "mimetype": "text/x-python",
   "name": "python",
   "nbconvert_exporter": "python",
   "pygments_lexer": "ipython3",
   "version": "3.8.11"
  }
 },
 "nbformat": 4,
 "nbformat_minor": 4
}
